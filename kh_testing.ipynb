{
 "cells": [
  {
   "cell_type": "code",
   "execution_count": null,
   "id": "fd421b2b-dec5-42fe-8189-4809c80373eb",
   "metadata": {},
   "outputs": [],
   "source": [
    "# notebook for testing Athenak with multip GPUs"
   ]
  },
  {
   "cell_type": "code",
   "execution_count": 1,
   "id": "2d76f5ef-2065-4b57-84d0-f2f057b75d50",
   "metadata": {
    "tags": []
   },
   "outputs": [],
   "source": [
    "from camber.athena import AthenaEngine"
   ]
  },
  {
   "cell_type": "code",
   "execution_count": 2,
   "id": "7ba23d50-fd60-41fb-ae49-383710523765",
   "metadata": {
    "tags": []
   },
   "outputs": [],
   "source": [
    "engine = AthenaEngine(engine_size='XLARGE',use_gpu=True,num_engines=2)"
   ]
  },
  {
   "cell_type": "code",
   "execution_count": 4,
   "id": "35a8fe7d-6c0b-4c73-9c86-b5f89d5735bd",
   "metadata": {
    "tags": []
   },
   "outputs": [
    {
     "name": "stdout",
     "output_type": "stream",
     "text": [
      "cd ${ATHENA_HOME} && mkdir -p build && cd build && cmake -DKokkos_ENABLE_CUDA=ON -DCMAKE_CXX_COMPILER=${ATHENA_HOME}/kokkos/bin/nvcc_wrapper -DAthena_ENABLE_MPI=ON -DKokkos_ARCH_AMPERE80=ON -DPROBLEM=kh ../ && make -j$(nproc) all\n"
     ]
    },
    {
     "data": {
      "text/plain": [
       "<camber.athena.AthenaEngine at 0x7f46e42f5420>"
      ]
     },
     "execution_count": 4,
     "metadata": {},
     "output_type": "execute_result"
    }
   ],
   "source": [
    "engine.build(problem_generator=\"kh\",dry_run=True)"
   ]
  },
  {
   "cell_type": "code",
   "execution_count": 8,
   "id": "0fcf63c6-7833-4cf4-be39-ac0a4a8aa73b",
   "metadata": {
    "tags": []
   },
   "outputs": [
    {
     "data": {
      "text/plain": [
       "<camber.athena.AthenaEngine at 0x7f46e42f5420>"
      ]
     },
     "execution_count": 8,
     "metadata": {},
     "output_type": "execute_result"
    }
   ],
   "source": [
    "engine.build(problem_generator=\"kh\")"
   ]
  },
  {
   "cell_type": "code",
   "execution_count": 14,
   "id": "c09022c6-2ae1-41a8-8c68-8f46758a129f",
   "metadata": {
    "tags": []
   },
   "outputs": [],
   "source": [
    "# Run Kelvin-Helmholtz problem\n",
    "job = engine.create_job(\n",
    "    command=\"mpirun --hostfile /etc/mpi/hostfile athenak/build/src/athena -i kh2d-lecoanet.athinput\",\n",
    "    num_engines=2,\n",
    ")"
   ]
  },
  {
   "cell_type": "code",
   "execution_count": 17,
   "id": "31b6dc42-2d6c-47c1-85d9-6df5ca2f61e2",
   "metadata": {
    "collapsed": true,
    "jupyter": {
     "outputs_hidden": true
    },
    "tags": []
   },
   "outputs": [
    {
     "name": "stdout",
     "output_type": "stream",
     "text": [
      "(JOB 181) - [INFO] - 2024-07-26T20:15:57.562016+00:00 Loaded Camber HPC environment.\n",
      "(JOB 181) - [INFO] - 2024-07-26T20:15:57.569314+00:00 Loaded additional setup.\n",
      "(JOB 181) - [INFO] - 2024-07-26T20:15:57.672959+00:00 START job 181 successful\n",
      "(JOB 181) - [INFO] - 2024-07-26T20:16:00.927348+00:00 --------------------------------------------------------------------------\n",
      "(JOB 181) - [INFO] - 2024-07-26T20:16:00.927368+00:00 No components were able to be opened in the pml framework.\n",
      "(JOB 181) - [INFO] - 2024-07-26T20:16:00.927370+00:00 \n",
      "(JOB 181) - [INFO] - 2024-07-26T20:16:00.927373+00:00 This typically means that either no components of this type were\n",
      "(JOB 181) - [INFO] - 2024-07-26T20:16:00.927376+00:00 installed, or none of the installed components can be loaded.\n",
      "(JOB 181) - [INFO] - 2024-07-26T20:16:00.927378+00:00 Sometimes this means that shared libraries required by these\n",
      "(JOB 181) - [INFO] - 2024-07-26T20:16:00.927380+00:00 components are unable to be found/loaded.\n",
      "(JOB 181) - [INFO] - 2024-07-26T20:16:00.927383+00:00 \n",
      "(JOB 181) - [INFO] - 2024-07-26T20:16:00.927386+00:00   Host:      athena-c40dd2d7-master\n",
      "(JOB 181) - [INFO] - 2024-07-26T20:16:00.927388+00:00   Framework: pml\n",
      "(JOB 181) - [INFO] - 2024-07-26T20:16:00.927390+00:00 --------------------------------------------------------------------------\n",
      "(JOB 181) - [INFO] - 2024-07-26T20:16:00.928356+00:00 [athena-c40dd2d7-master:00505] PML cm cannot be selected\n",
      "(JOB 181) - [INFO] - 2024-07-26T20:16:01.257037+00:00 COMPLETE job 181 successful\n"
     ]
    }
   ],
   "source": [
    "job.read_logs(tail_lines=30)"
   ]
  },
  {
   "cell_type": "code",
   "execution_count": null,
   "id": "ce4c864c-07ea-4cb0-aecf-84b4ca2415d2",
   "metadata": {},
   "outputs": [],
   "source": [
    "# The following is for testing CPU instances with Athena++"
   ]
  },
  {
   "cell_type": "code",
   "execution_count": 18,
   "id": "a204d4bc-51e1-49b6-b130-e44931a56423",
   "metadata": {
    "tags": []
   },
   "outputs": [],
   "source": [
    "engine = AthenaEngine(engine_size='LARGE',use_gpu=False,num_engines=2)"
   ]
  },
  {
   "cell_type": "code",
   "execution_count": 20,
   "id": "38dac4f9-c58c-49c0-8062-19dfc3d717a7",
   "metadata": {
    "tags": []
   },
   "outputs": [
    {
     "data": {
      "text/plain": [
       "<camber.athena.AthenaEngine at 0x7f4724225fc0>"
      ]
     },
     "execution_count": 20,
     "metadata": {},
     "output_type": "execute_result"
    }
   ],
   "source": [
    "engine.build(problem_generator=\"kh\")"
   ]
  },
  {
   "cell_type": "code",
   "execution_count": 21,
   "id": "0ce567e8-8371-4df3-b193-fccb27a2bcc3",
   "metadata": {
    "tags": []
   },
   "outputs": [],
   "source": [
    "# Run Kelvin-Helmholtz problem\n",
    "job = engine.create_job(\n",
    "    command=\"mpirun --hostfile /etc/mpi/hostfile athena/bin/athena -i athinput.kh-shear-lecoanet\",\n",
    "    num_engines=1,\n",
    ")"
   ]
  },
  {
   "cell_type": "code",
   "execution_count": null,
   "id": "2dd380a8-9dc8-4d12-953a-dd882427d4ef",
   "metadata": {},
   "outputs": [],
   "source": []
  }
 ],
 "metadata": {
  "kernelspec": {
   "display_name": "PyCamber",
   "language": "python",
   "name": "python3"
  },
  "language_info": {
   "codemirror_mode": {
    "name": "ipython",
    "version": 3
   },
   "file_extension": ".py",
   "mimetype": "text/x-python",
   "name": "python",
   "nbconvert_exporter": "python",
   "pygments_lexer": "ipython3",
   "version": "3.10.10"
  }
 },
 "nbformat": 4,
 "nbformat_minor": 5
}
