{
 "cells": [
  {
   "cell_type": "code",
   "execution_count": 1,
   "id": "a7e13f38-44ef-416c-a28f-e2e6ab11f39f",
   "metadata": {
    "tags": []
   },
   "outputs": [],
   "source": [
    "from camber.athena import AthenaEngine"
   ]
  },
  {
   "cell_type": "code",
   "execution_count": 2,
   "id": "a7719bff-2106-4a5e-8fe3-458add14c1a3",
   "metadata": {
    "tags": []
   },
   "outputs": [],
   "source": [
    "engine = AthenaEngine(engine_size='LARGE',use_gpu=True,num_engines=1)"
   ]
  },
  {
   "cell_type": "code",
   "execution_count": 10,
   "id": "194219b8-4616-44fa-be2d-4bab684b40f2",
   "metadata": {
    "tags": []
   },
   "outputs": [],
   "source": [
    "job = engine.create_job(\n",
    "    \"cmake \"\n",
    "    \"-DKokkos_ENABLE_CUDA=On \"\n",
    "    \"-DKokkos_ARCH_VOLTA70=On \"\n",
    "    \"-DCMAKE_CXX_COMPILER=$ATHENA_HOME/kokkos/bin/nvcc_wrapper \"\n",
    "    \"-DAthena_ENABLE_MPI=On \"\n",
    "    \"-Bbuild \"\n",
    "    \"$ATHENA_HOME\",\n",
    ")"
   ]
  },
  {
   "cell_type": "code",
   "execution_count": 15,
   "id": "0bedea29-2dea-486f-a136-e55847bedcd5",
   "metadata": {
    "tags": []
   },
   "outputs": [],
   "source": [
    "job = engine.create_job(\n",
    "    \"cd build && make all -j$(nproc)\"\n",
    ")"
   ]
  },
  {
   "cell_type": "code",
   "execution_count": 28,
   "id": "c2a9cbf9-917a-4f4c-8d7b-9ff59f8c4797",
   "metadata": {
    "tags": []
   },
   "outputs": [],
   "source": [
    "# Run radiation linear wave problem\n",
    "job = engine.create_job(\n",
    "    command=\"mpirun --hostfile /etc/mpi/hostfile build/src/athena -i rad_linwave.athinput\",\n",
    ")"
   ]
  },
  {
   "cell_type": "code",
   "execution_count": 43,
   "id": "c858d37a-20a8-4d36-8f47-6f448ce7b508",
   "metadata": {
    "tags": []
   },
   "outputs": [
    {
     "name": "stdout",
     "output_type": "stream",
     "text": [
      "(JOB 4030) - [INFO] - 2024-07-27T18:28:52.364796+00:00 cycle=4103 time=4.808203e+00 dt=1.171875e-03\n",
      "(JOB 4030) - [INFO] - 2024-07-27T18:28:52.830556+00:00 cycle=4104 time=4.809375e+00 dt=1.171875e-03\n",
      "(JOB 4030) - [INFO] - 2024-07-27T18:28:53.295510+00:00 cycle=4105 time=4.810547e+00 dt=1.171875e-03\n",
      "(JOB 4030) - [INFO] - 2024-07-27T18:28:53.760519+00:00 cycle=4106 time=4.811719e+00 dt=1.171875e-03\n",
      "(JOB 4030) - [INFO] - 2024-07-27T18:28:54.223843+00:00 cycle=4107 time=4.812891e+00 dt=1.171875e-03\n",
      "(JOB 4030) - [INFO] - 2024-07-27T18:28:54.678548+00:00 cycle=4108 time=4.814062e+00 dt=1.171875e-03\n",
      "(JOB 4030) - [INFO] - 2024-07-27T18:28:55.142480+00:00 cycle=4109 time=4.815234e+00 dt=1.171875e-03\n",
      "(JOB 4030) - [INFO] - 2024-07-27T18:28:55.607960+00:00 cycle=4110 time=4.816406e+00 dt=1.171875e-03\n",
      "(JOB 4030) - [INFO] - 2024-07-27T18:28:56.072164+00:00 cycle=4111 time=4.817578e+00 dt=1.171875e-03\n",
      "(JOB 4030) - [INFO] - 2024-07-27T18:28:56.537448+00:00 cycle=4112 time=4.818750e+00 dt=1.171875e-03\n"
     ]
    }
   ],
   "source": [
    "job.read_logs(tail_lines=10)"
   ]
  },
  {
   "cell_type": "code",
   "execution_count": 38,
   "id": "9f12d988-298e-405a-9d0c-5aaa1592259c",
   "metadata": {
    "tags": []
   },
   "outputs": [
    {
     "data": {
      "text/plain": [
       "CamberJobCollection(\n",
       "    CamberJob({\"job_id\": 4026, \"status\": \"COMPLETED\", \"engine_size\": \"LARGE\", \"engine_type\": \"ATHENA\", \"command\": \"cmake -DKokkos_ENABLE_CUDA=On -DKokkos_ARCH_AMPERE80=On -DCMAKE_CXX_COMPILER=$ATHENA_HOME/kokkos/bin/nvcc_wrapper -DAthena_ENABLE_MPI=On -Bbuild $ATHENA_HOME\", \"with_gpu\": true}),\n",
       "    CamberJob({\"job_id\": 4027, \"status\": \"COMPLETED\", \"engine_size\": \"LARGE\", \"engine_type\": \"ATHENA\", \"command\": \"cmake -DKokkos_ENABLE_CUDA=On -DKokkos_ARCH_AMPERE70=On -DCMAKE_CXX_COMPILER=$ATHENA_HOME/kokkos/bin/nvcc_wrapper -DAthena_ENABLE_MPI=On -Bbuild $ATHENA_HOME\", \"with_gpu\": true}),\n",
       "    CamberJob({\"job_id\": 4028, \"status\": \"COMPLETED\", \"engine_size\": \"LARGE\", \"engine_type\": \"ATHENA\", \"command\": \"cd build && make all -j$(nproc)\", \"with_gpu\": true}),\n",
       "    CamberJob({\"job_id\": 4029, \"status\": \"COMPLETED\", \"engine_size\": \"LARGE\", \"engine_type\": \"ATHENA\", \"command\": \"mpirun --hostfile /etc/mpi/hostfile build/src/athena -i rad_linwave.athinput\", \"with_gpu\": true}),\n",
       "    CamberJob({\"job_id\": 4030, \"status\": \"RUNNING\", \"engine_size\": \"LARGE\", \"engine_type\": \"ATHENA\", \"command\": \"mpirun --np 4 --hostfile /etc/mpi/hostfile build/src/athena -i rad_linwave.athinput\", \"with_gpu\": true})\n",
       ")"
      ]
     },
     "execution_count": 38,
     "metadata": {},
     "output_type": "execute_result"
    }
   ],
   "source": [
    "engine.history"
   ]
  },
  {
   "cell_type": "code",
   "execution_count": null,
   "id": "ec9f2457-d10d-47b1-bd7f-758ca7572f81",
   "metadata": {},
   "outputs": [],
   "source": []
  }
 ],
 "metadata": {
  "kernelspec": {
   "display_name": "PyCamber",
   "language": "python",
   "name": "python3"
  },
  "language_info": {
   "codemirror_mode": {
    "name": "ipython",
    "version": 3
   },
   "file_extension": ".py",
   "mimetype": "text/x-python",
   "name": "python",
   "nbconvert_exporter": "python",
   "pygments_lexer": "ipython3",
   "version": "3.10.10"
  }
 },
 "nbformat": 4,
 "nbformat_minor": 5
}
